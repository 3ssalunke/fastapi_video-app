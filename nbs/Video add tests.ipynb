{
 "cells": [
  {
   "cell_type": "code",
   "execution_count": 1,
   "id": "c4dd0c11",
   "metadata": {},
   "outputs": [
    {
     "data": {
      "text/plain": [
       "'C:\\\\Users\\\\Suraj S\\\\Desktop\\\\Video_Membership_App\\\\nbs'"
      ]
     },
     "execution_count": 1,
     "metadata": {},
     "output_type": "execute_result"
    }
   ],
   "source": [
    "pwd"
   ]
  },
  {
   "cell_type": "code",
   "execution_count": 2,
   "id": "54096690",
   "metadata": {},
   "outputs": [
    {
     "name": "stdout",
     "output_type": "stream",
     "text": [
      "C:\\Users\\Suraj S\\Desktop\\Video_Membership_App\n"
     ]
    }
   ],
   "source": [
    "%cd .."
   ]
  },
  {
   "cell_type": "code",
   "execution_count": 3,
   "id": "81f71086",
   "metadata": {},
   "outputs": [],
   "source": [
    "from app import db\n",
    "from app.videos.models import Video\n",
    "from app.users.models import User\n",
    "from cassandra.cqlengine.management import sync_table"
   ]
  },
  {
   "cell_type": "code",
   "execution_count": 4,
   "id": "be011d1c",
   "metadata": {},
   "outputs": [],
   "source": [
    "db.get_session()\n",
    "sync_table(Video)\n",
    "sync_table(User)"
   ]
  },
  {
   "cell_type": "code",
   "execution_count": 5,
   "id": "0f14e3cf",
   "metadata": {},
   "outputs": [],
   "source": [
    "michael = User.objects.get(email='mscott@dmpaper.com')"
   ]
  },
  {
   "cell_type": "code",
   "execution_count": 6,
   "id": "d37113ad",
   "metadata": {},
   "outputs": [],
   "source": [
    "video_obj = Video.add_video(url='https://www.youtube.com/watch?v=GFO_txvwK_c&ab_channel=freeCodeCamp.org', user_id=michael.user_id)"
   ]
  },
  {
   "cell_type": "code",
   "execution_count": null,
   "id": "d801d5aa",
   "metadata": {},
   "outputs": [],
   "source": []
  }
 ],
 "metadata": {
  "kernelspec": {
   "display_name": "Python 3 (ipykernel)",
   "language": "python",
   "name": "python3"
  },
  "language_info": {
   "codemirror_mode": {
    "name": "ipython",
    "version": 3
   },
   "file_extension": ".py",
   "mimetype": "text/x-python",
   "name": "python",
   "nbconvert_exporter": "python",
   "pygments_lexer": "ipython3",
   "version": "3.10.5"
  }
 },
 "nbformat": 4,
 "nbformat_minor": 5
}
