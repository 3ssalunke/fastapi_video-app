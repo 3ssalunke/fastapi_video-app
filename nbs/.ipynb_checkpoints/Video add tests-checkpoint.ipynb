{
 "cells": [
  {
   "cell_type": "code",
   "execution_count": 1,
   "id": "c4dd0c11",
   "metadata": {},
   "outputs": [
    {
     "data": {
      "text/plain": [
       "'C:\\\\Users\\\\Suraj S\\\\Desktop\\\\Video_Membership_App\\\\nbs'"
      ]
     },
     "execution_count": 1,
     "metadata": {},
     "output_type": "execute_result"
    }
   ],
   "source": [
    "pwd"
   ]
  },
  {
   "cell_type": "code",
   "execution_count": 2,
   "id": "54096690",
   "metadata": {},
   "outputs": [
    {
     "name": "stdout",
     "output_type": "stream",
     "text": [
      "C:\\Users\\Suraj S\\Desktop\\Video_Membership_App\n"
     ]
    }
   ],
   "source": [
    "%cd .."
   ]
  },
  {
   "cell_type": "code",
   "execution_count": 3,
   "id": "81f71086",
   "metadata": {},
   "outputs": [],
   "source": [
    "from app import db\n",
    "from cassandra.cqlengine.management import sync_table\n",
    "from app.users.models import User"
   ]
  },
  {
   "cell_type": "code",
   "execution_count": 4,
   "id": "be011d1c",
   "metadata": {},
   "outputs": [],
   "source": [
    "db.get_session()\n",
    "sync_table(User)"
   ]
  },
  {
   "cell_type": "code",
   "execution_count": 10,
   "id": "eee1f11a",
   "metadata": {},
   "outputs": [],
   "source": [
    "user_a = User.create_user(\"jhalpert@dmpaper.com\", password=\"jkal1234\")"
   ]
  },
  {
   "cell_type": "code",
   "execution_count": 13,
   "id": "8c0cb593",
   "metadata": {},
   "outputs": [
    {
     "data": {
      "text/plain": [
       "True"
      ]
     },
     "execution_count": 13,
     "metadata": {},
     "output_type": "execute_result"
    }
   ],
   "source": [
    "user_a.verify_password(\"jkal1234\")"
   ]
  }
 ],
 "metadata": {
  "kernelspec": {
   "display_name": "Python 3 (ipykernel)",
   "language": "python",
   "name": "python3"
  },
  "language_info": {
   "codemirror_mode": {
    "name": "ipython",
    "version": 3
   },
   "file_extension": ".py",
   "mimetype": "text/x-python",
   "name": "python",
   "nbconvert_exporter": "python",
   "pygments_lexer": "ipython3",
   "version": "3.10.5"
  }
 },
 "nbformat": 4,
 "nbformat_minor": 5
}
